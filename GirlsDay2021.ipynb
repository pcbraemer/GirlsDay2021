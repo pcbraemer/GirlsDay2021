{
 "cells": [
  {
   "cell_type": "markdown",
   "id": "animal-citizen",
   "metadata": {},
   "source": [
    "# Grundlagen"
   ]
  },
  {
   "cell_type": "code",
   "execution_count": null,
   "id": "durable-sharp",
   "metadata": {
    "slideshow": {
     "slide_type": "-"
    },
    "tags": [
     "hide-cell"
    ]
   },
   "outputs": [],
   "source": [
    "!pip -q install tensorflow==2.3.1 pyglet==1.5.11 gym keras-rl2 'gym[atari]'\n",
    "#im Vergleich zum Video muss man gym[atari] in Anführungszeichen setzen\n",
    "import gym \n",
    "import random\n",
    "import numpy as np\n",
    "from tensorflow.keras.models import Sequential\n",
    "from tensorflow.keras.layers import Dense, Flatten, Convolution2D\n",
    "from tensorflow.keras.optimizers import Adam\n",
    "from rl.agents import DQNAgent\n",
    "from rl.memory import SequentialMemory\n",
    "from rl.policy import LinearAnnealedPolicy, EpsGreedyQPolicy\n",
    "\n",
    "def UmgebungErstellen():\n",
    "    umgebung = gym.make('SpaceInvaders-v0')\n",
    "    höhe, breite, kanäle = umgebung.observation_space.shape \n",
    "    aktionen = umgebung.action_space.n \n",
    "    return umgebung, höhe, breite, kanäle, aktionen;\n",
    "def AktionenAnzeigen(umgebung):\n",
    "    umgebung.unwrapped.get_action_meanings();\n",
    "def Probedurchlauf(anzahl, umgebung):\n",
    "    for anzahl in range(1, anzahl+1):\n",
    "        state = umgebung.reset()\n",
    "        done = False\n",
    "        score = 0 \n",
    "\n",
    "        while not done:\n",
    "            umgebung.render()\n",
    "            action = random.choice([0,1,2,3,4,5])\n",
    "            n_state, reward, done, info = umgebung.step(action)\n",
    "            score+=reward\n",
    "        print('Durchlauf:{} Punkte:{}'.format(anzahl, score))\n",
    "    umgebung.close()\n",
    "    \n",
    "def TrainingsplanErstellen(height, width, channels, actions):\n",
    "    model = Sequential()\n",
    "    model.add(Convolution2D(32, (8,8), strides=(4,4), activation='relu', input_shape=(3,height, width, channels)))\n",
    "    model.add(Convolution2D(64, (4,4), strides=(2,2), activation='relu'))\n",
    "    model.add(Convolution2D(64, (3,3), activation='relu'))\n",
    "    model.add(Flatten())\n",
    "    model.add(Dense(512, activation='relu'))\n",
    "    model.add(Dense(256, activation='relu'))\n",
    "    model.add(Dense(actions, activation='linear'))\n",
    "    return model\n",
    "\n",
    "def KIAktivieren(model, actions):\n",
    "    policy = LinearAnnealedPolicy(EpsGreedyQPolicy(), attr='eps', value_max=1., value_min=.1, value_test=.2, nb_steps=10000)\n",
    "    memory = SequentialMemory(limit=1000, window_length=3)\n",
    "    dqn = DQNAgent(model=model, memory=memory, policy=policy,\n",
    "                  enable_dueling_network=True, dueling_type='avg', \n",
    "                   nb_actions=actions, nb_steps_warmup=1000\n",
    "                  )\n",
    "    return dqn"
   ]
  },
  {
   "cell_type": "markdown",
   "id": "third-exercise",
   "metadata": {},
   "source": [
    "# Kompletter Code"
   ]
  },
  {
   "cell_type": "code",
   "execution_count": null,
   "id": "pacific-brush",
   "metadata": {},
   "outputs": [],
   "source": [
    "umgebung, höhe, breite, kanäle, aktionen = UmgebungErstellen();\n",
    "AktionenAnzeigen(umgebung);\n",
    "Probedurchlauf(3, umgebung);\n",
    "\n",
    "del trainingsplan, ki\n",
    "trainingsplan = TrainingsplanErstellen(höhe, breite, kanäle, aktionen)\n",
    "\n",
    "\n",
    "ki = KIAktivieren(trainingsplan, aktionen)\n",
    "ki.compile(Adam(lr=1e-4))\n",
    "\n",
    "ki.fit(umgebung, nb_steps=100, visualize=False, verbose=2)\n",
    "scores = ki.test(umgebung, nb_episodes=10, visualize=True)\n",
    "print(np.mean(scores.history['episode_reward']))\n"
   ]
  },
  {
   "cell_type": "markdown",
   "id": "characteristic-faculty",
   "metadata": {},
   "source": [
    "# Einzelne Durchläufe"
   ]
  },
  {
   "cell_type": "code",
   "execution_count": null,
   "id": "scientific-defensive",
   "metadata": {},
   "outputs": [],
   "source": [
    "umgebung, höhe, breite, kanäle, aktionen = UmgebungErstellen();\n",
    "AktionenAnzeigen(umgebung);"
   ]
  },
  {
   "cell_type": "code",
   "execution_count": null,
   "id": "muslim-alarm",
   "metadata": {},
   "outputs": [],
   "source": [
    "Probedurchlauf(3, umgebung);"
   ]
  },
  {
   "cell_type": "code",
   "execution_count": null,
   "id": "changing-henry",
   "metadata": {},
   "outputs": [],
   "source": [
    "del trainingsplan, ki\n",
    "trainingsplan = TrainingsplanErstellen(höhe, breite, kanäle, aktionen)"
   ]
  },
  {
   "cell_type": "code",
   "execution_count": null,
   "id": "parallel-expansion",
   "metadata": {},
   "outputs": [],
   "source": [
    "ki = KIAktivieren(trainingsplan, aktionen)\n",
    "ki.compile(Adam(lr=1e-4))\n",
    "\n",
    "ki.fit(umgebung, nb_steps=100, visualize=False, verbose=2)"
   ]
  },
  {
   "cell_type": "code",
   "execution_count": null,
   "id": "irish-distance",
   "metadata": {},
   "outputs": [],
   "source": [
    "scores = ki.test(umgebung, nb_episodes=10, visualize=True)\n",
    "print(np.mean(scores.history['episode_reward']))"
   ]
  },
  {
   "cell_type": "code",
   "execution_count": null,
   "id": "fatty-connecticut",
   "metadata": {},
   "outputs": [],
   "source": []
  },
  {
   "cell_type": "code",
   "execution_count": null,
   "id": "electronic-invite",
   "metadata": {},
   "outputs": [],
   "source": []
  },
  {
   "cell_type": "markdown",
   "id": "conceptual-celebrity",
   "metadata": {},
   "source": [
    "# Random\n",
    "muss noch gelöscht werden"
   ]
  },
  {
   "cell_type": "code",
   "execution_count": null,
   "id": "confirmed-kenya",
   "metadata": {},
   "outputs": [],
   "source": [
    "from IPython.display import HTML\n",
    "HTML('''<script onload=\"code_hide\">\n",
    "function code_hide() {\n",
    "    $('div.cell.code_cell.rendered.selected div.input').hide();\n",
    "}\n",
    "$(code_hide())\n",
    "</script>\n",
    "<a href=\"javascript:code_hide()\">hier</a>\n",
    "\n",
    "''')\n",
    "#onload=\"code_hide\"\n",
    "#$('div.cell.code_cell.rendered.selected div.output').hide();\n",
    "from IPython.display import HTML\n",
    "HTML('''<script>\n",
    "code_show=true; \n",
    "function code_toggle() {\n",
    "    if (code_show){\n",
    "        $('div.cell.code_cell.rendered.selected div.input').hide();\n",
    "        $('div.cell.code_cell.rendered.selected div.output').hide();\n",
    "    } else {\n",
    "        $('div.cell.code_cell.rendered.selected div.input').show();\n",
    "    }\n",
    "    code_show = !code_show\n",
    "} \n",
    "$(code_toggle)\n",
    "</script>\n",
    "\n",
    "Um den folgenden unwichtigen Code auszublenden <a href=\"javascript:code_toggle()\">hier</a> klicken.''')\n"
   ]
  }
 ],
 "metadata": {
  "celltoolbar": "Edit Metadata",
  "kernelspec": {
   "display_name": "Python 3",
   "language": "python",
   "name": "python3"
  },
  "language_info": {
   "codemirror_mode": {
    "name": "ipython",
    "version": 3
   },
   "file_extension": ".py",
   "mimetype": "text/x-python",
   "name": "python",
   "nbconvert_exporter": "python",
   "pygments_lexer": "ipython3",
   "version": "3.8.0"
  }
 },
 "nbformat": 4,
 "nbformat_minor": 5
}
