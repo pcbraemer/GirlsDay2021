{
 "cells": [
  {
   "cell_type": "code",
   "execution_count": null,
   "id": "unknown-mayor",
   "metadata": {
    "slideshow": {
     "slide_type": "-"
    },
    "tags": [
     "hide-cell"
    ]
   },
   "outputs": [],
   "source": [
    "#hidden\n",
    "!pip install tensorflow==2.3.1 gym keras-rl2 'gym[atari]'\n",
    "#im Vergleich zum Video muss man gym[atari] in Anführungszeichen setzen\n",
    "import gym \n",
    "import random\n",
    "\n",
    "def UmgebungErstellen():\n",
    "    env = gym.make('SpaceInvaders-v0')\n",
    "    height, width, channels = env.observation_space.shape\n",
    "    actions = env.action_space.n\n",
    "    return env;\n"
   ]
  },
  {
   "cell_type": "markdown",
   "id": "determined-saint",
   "metadata": {},
   "source": [
    "# Dependencies"
   ]
  },
  {
   "cell_type": "code",
   "execution_count": null,
   "id": "pacific-brush",
   "metadata": {},
   "outputs": [],
   "source": [
    "env = UmgebungErstellen();\n",
    "\n",
    "\n",
    "\n"
   ]
  },
  {
   "cell_type": "code",
   "execution_count": null,
   "id": "native-shade",
   "metadata": {},
   "outputs": [],
   "source": []
  },
  {
   "cell_type": "code",
   "execution_count": null,
   "id": "recognized-candle",
   "metadata": {},
   "outputs": [],
   "source": []
  }
 ],
 "metadata": {
  "kernelspec": {
   "display_name": "Python 3",
   "language": "python",
   "name": "python3"
  },
  "language_info": {
   "codemirror_mode": {
    "name": "ipython",
    "version": 3
   },
   "file_extension": ".py",
   "mimetype": "text/x-python",
   "name": "python",
   "nbconvert_exporter": "python",
   "pygments_lexer": "ipython3",
   "version": "3.8.0"
  }
 },
 "nbformat": 4,
 "nbformat_minor": 5
}
