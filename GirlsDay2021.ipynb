{
 "cells": [
  {
   "cell_type": "markdown",
   "id": "animal-citizen",
   "metadata": {},
   "source": [
    "# Grundlagen"
   ]
  },
  {
   "cell_type": "code",
   "execution_count": null,
   "id": "durable-sharp",
   "metadata": {
    "slideshow": {
     "slide_type": "-"
    },
    "tags": [
     "hide-cell"
    ]
   },
   "outputs": [],
   "source": [
    "import gym\n",
    "import gnwrapper #offline auskommentieren\n",
    "import random\n",
    "import numpy as np\n",
    "from tensorflow.keras.models import Sequential\n",
    "from tensorflow.keras.layers import Dense, Flatten, Convolution2D\n",
    "from tensorflow.keras.optimizers import Adam\n",
    "from rl.agents import DQNAgent\n",
    "from rl.memory import SequentialMemory\n",
    "from rl.policy import LinearAnnealedPolicy, EpsGreedyQPolicy\n",
    "\n",
    "def UmgebungErstellen():\n",
    "    umgebung = gnwrapper.Animation(gym.make('SpaceInvaders-v0')) #online\n",
    "    #umgebung = gym.make('SpaceInvaders-v0') #offline\n",
    "    höhe, breite, kanäle = umgebung.observation_space.shape \n",
    "    aktionen = umgebung.action_space.n \n",
    "    return umgebung, höhe, breite, kanäle, aktionen;\n",
    "\n",
    "def AktionenAnzeigen(umgebung):\n",
    "    umgebung.unwrapped.get_action_meanings();\n",
    "    \n",
    "def Probedurchlauf(anzahl, umgebung):\n",
    "    ausgabe= ''\n",
    "    for anzahl in range(1, anzahl+1):\n",
    "        state = umgebung.reset()\n",
    "        done = False\n",
    "        score = 0 \n",
    "        schritte = 0\n",
    "        \n",
    "        while not done:\n",
    "            umgebung.render()\n",
    "            action = random.choice([0,1,2,3,4,5])\n",
    "            n_state, reward, done, info = umgebung.step(action)\n",
    "            score+=reward\n",
    "            schritte+=1\n",
    "        ausgabe +='Durchlauf:{} Punkte:{} Schritte:{}'.format(anzahl, score, schritte)+'\\n'\n",
    "    umgebung.close()\n",
    "    print(ausgabe)\n",
    "    \n",
    "def TrainingsplanErstellen(height, width, channels, actions):\n",
    "    model = Sequential()\n",
    "    model.add(Convolution2D(32, (8,8), strides=(4,4), activation='relu', input_shape=(3,height, width, channels)))\n",
    "    model.add(Convolution2D(64, (4,4), strides=(2,2), activation='relu'))\n",
    "    model.add(Convolution2D(64, (3,3), activation='relu'))\n",
    "    model.add(Flatten())\n",
    "    model.add(Dense(512, activation='relu'))\n",
    "    model.add(Dense(256, activation='relu'))\n",
    "    model.add(Dense(actions, activation='linear'))\n",
    "    print(\"Trainingsplan:\")\n",
    "    #Trainable params gibt die Anzahl der möglichen Kombinationen an  \n",
    "    model.summary()\n",
    "    return model\n",
    "\n",
    "def KIErstellen(model, actions):\n",
    "    policy = LinearAnnealedPolicy(EpsGreedyQPolicy(), attr='eps', value_max=1., value_min=.1, value_test=.2, nb_steps=10000)\n",
    "    memory = SequentialMemory(limit=1000, window_length=3)\n",
    "    dqn = DQNAgent(model=model, memory=memory, policy=policy,\n",
    "                  enable_dueling_network=True, dueling_type='avg', \n",
    "                   nb_actions=actions, nb_steps_warmup=1000)\n",
    "    print(\"KI erstellt\")\n",
    "    return dqn\n",
    "\n",
    "def KITrainieren(ki, durchläufe):\n",
    "    ki.compile(Adam(lr=1e-4))\n",
    "    ki.fit(umgebung, nb_steps=durchläufe, visualize=False, verbose=2)\n",
    "    print(\"KI trainiert\")\n",
    "    return ki\n",
    "\n",
    "def ErgebnisAusgeben(ergebnis):\n",
    "    print(np.mean(ergebnis.history['episode_reward']))\n",
    "    \n",
    "def KILaden():\n",
    "    #zum laden muss der Kernel neu gestartet werden und dieser Codeblock nochmals ausgeführt werden, ansonsten gibts Speicherprobleme bei Binder \n",
    "    umgebung, höhe, breite, kanäle, aktionen = UmgebungErstellen();\n",
    "    trainingsplan = TrainingsplanErstellen(höhe, breite, kanäle, aktionen)\n",
    "    ki = KIErstellen(trainingsplan, aktionen)\n",
    "    ki.compile(Adam(lr=1e-4))\n",
    "    ki.load_weights('savedweights/ki_weights.h5f')\n",
    "    ergebnis = ki.test(umgebung, nb_episodes=10, visualize=True)\n",
    "    ErgebnisAusgeben(ergebnis)\n",
    "    print(\"fertig\")\n",
    "print(\"geladen\")"
   ]
  },
  {
   "cell_type": "code",
   "execution_count": null,
   "id": "silver-separation",
   "metadata": {},
   "outputs": [],
   "source": []
  },
  {
   "cell_type": "code",
   "execution_count": null,
   "id": "banned-dodge",
   "metadata": {},
   "outputs": [],
   "source": []
  },
  {
   "cell_type": "code",
   "execution_count": null,
   "id": "floral-spice",
   "metadata": {},
   "outputs": [],
   "source": []
  },
  {
   "cell_type": "code",
   "execution_count": null,
   "id": "round-bicycle",
   "metadata": {},
   "outputs": [],
   "source": []
  },
  {
   "cell_type": "code",
   "execution_count": null,
   "id": "prime-inflation",
   "metadata": {},
   "outputs": [],
   "source": []
  },
  {
   "cell_type": "code",
   "execution_count": null,
   "id": "acknowledged-blake",
   "metadata": {},
   "outputs": [],
   "source": []
  },
  {
   "cell_type": "code",
   "execution_count": null,
   "id": "featured-eugene",
   "metadata": {},
   "outputs": [],
   "source": []
  },
  {
   "cell_type": "code",
   "execution_count": null,
   "id": "incorporate-chassis",
   "metadata": {},
   "outputs": [],
   "source": []
  },
  {
   "cell_type": "code",
   "execution_count": null,
   "id": "acute-petite",
   "metadata": {},
   "outputs": [],
   "source": []
  },
  {
   "cell_type": "code",
   "execution_count": null,
   "id": "optical-cliff",
   "metadata": {},
   "outputs": [],
   "source": []
  },
  {
   "cell_type": "code",
   "execution_count": null,
   "id": "exact-accused",
   "metadata": {},
   "outputs": [],
   "source": []
  },
  {
   "cell_type": "code",
   "execution_count": null,
   "id": "funky-damages",
   "metadata": {},
   "outputs": [],
   "source": []
  },
  {
   "cell_type": "code",
   "execution_count": null,
   "id": "aquatic-shade",
   "metadata": {},
   "outputs": [],
   "source": []
  },
  {
   "cell_type": "code",
   "execution_count": null,
   "id": "remarkable-morning",
   "metadata": {},
   "outputs": [],
   "source": []
  },
  {
   "cell_type": "code",
   "execution_count": null,
   "id": "oriental-beauty",
   "metadata": {},
   "outputs": [],
   "source": []
  },
  {
   "cell_type": "code",
   "execution_count": null,
   "id": "suspended-chancellor",
   "metadata": {},
   "outputs": [],
   "source": []
  },
  {
   "cell_type": "code",
   "execution_count": null,
   "id": "welcome-american",
   "metadata": {},
   "outputs": [],
   "source": []
  },
  {
   "cell_type": "code",
   "execution_count": null,
   "id": "convenient-humor",
   "metadata": {},
   "outputs": [],
   "source": []
  },
  {
   "cell_type": "code",
   "execution_count": null,
   "id": "upset-jamaica",
   "metadata": {},
   "outputs": [],
   "source": []
  },
  {
   "cell_type": "markdown",
   "id": "third-exercise",
   "metadata": {},
   "source": [
    "# Kompletter Durchlauf"
   ]
  },
  {
   "cell_type": "code",
   "execution_count": null,
   "id": "pacific-brush",
   "metadata": {},
   "outputs": [],
   "source": [
    "umgebung, höhe, breite, kanäle, aktionen = UmgebungErstellen();\n",
    "\n",
    "AktionenAnzeigen(umgebung);\n",
    "\n",
    "Probedurchlauf(3, umgebung);\n",
    "print(\"Probedurchlauf fertig\")\n",
    "\n",
    "trainingsplan = TrainingsplanErstellen(höhe, breite, kanäle, aktionen)\n",
    "\n",
    "ki = KIErstellen(trainingsplan, aktionen)\n",
    "\n",
    "ki = KITrainieren(ki,1000)\n",
    "\n",
    "ergebnis = ki.test(umgebung, nb_episodes=10, visualize=True)\n",
    "\n",
    "ErgebnisAusgeben(ergebnis)\n",
    "\n",
    "\n",
    "\n"
   ]
  },
  {
   "cell_type": "markdown",
   "id": "false-chess",
   "metadata": {},
   "source": [
    "# Trainierter Durchlauf"
   ]
  },
  {
   "cell_type": "code",
   "execution_count": null,
   "id": "macro-buyer",
   "metadata": {},
   "outputs": [],
   "source": [
    "KILaden()"
   ]
  }
 ],
 "metadata": {
  "celltoolbar": "Edit Metadata",
  "kernelspec": {
   "display_name": "Python 3",
   "language": "python",
   "name": "python3"
  },
  "language_info": {
   "codemirror_mode": {
    "name": "ipython",
    "version": 3
   },
   "file_extension": ".py",
   "mimetype": "text/x-python",
   "name": "python",
   "nbconvert_exporter": "python",
   "pygments_lexer": "ipython3",
   "version": "3.8.0"
  }
 },
 "nbformat": 4,
 "nbformat_minor": 5
}
